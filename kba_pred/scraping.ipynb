{
 "cells": [
  {
   "cell_type": "code",
   "execution_count": 9,
   "metadata": {},
   "outputs": [],
   "source": [
    "import requests\n",
    "import re\n",
    "import pandas as pd\n",
    "from bs4 import BeautifulSoup"
   ]
  },
  {
   "cell_type": "markdown",
   "metadata": {},
   "source": [
    "馬名:horses_text\n",
    "枠番:waku_num\n",
    "馬番:nums\n",
    "性別:sexes\n",
    "年齢:ages\n",
    "負担重量:weights\n",
    "騎手:jockeys\n",
    "タイム:times\n",
    "馬体重:h_weights\n",
    "馬体重増減:h_weight_diffs\n",
    "調教師名:trainers\n",
    "単勝人気:pops\n",
    "\n",
    "距離:distance\n",
    "コース(芝など):course\n",
    "右or左回り:direction\n",
    "開始時間(時):start_h\n",
    "開始時間(分):start_m\n",
    "天気:weather\n",
    "日付(年):year\n",
    "日付(月):month\n",
    "日付(日):day"
   ]
  },
  {
   "cell_type": "code",
   "execution_count": 2,
   "metadata": {},
   "outputs": [],
   "source": [
    "df = pd.DataFrame()"
   ]
  },
  {
   "cell_type": "code",
   "execution_count": 3,
   "metadata": {},
   "outputs": [],
   "source": [
    "r = requests.get('https://jra.jp/datafile/seiseki/replay/2021/001.html')\n",
    "soup = BeautifulSoup(r.content, 'html.parser')\n",
    "\n",
    "horses = soup.find_all('td', class_='horse')"
   ]
  },
  {
   "cell_type": "code",
   "execution_count": 4,
   "metadata": {},
   "outputs": [
    {
     "name": "stdout",
     "output_type": "stream",
     "text": [
      "[<td class=\"horse\">\n",
      "        ヒシイグアス</td>, <td class=\"horse\">\n",
      "        ココロノトウダイ</td>, <td class=\"horse\">\n",
      "        ウインイクシード</td>, <td class=\"horse\">\n",
      "        ロザムール</td>, <td class=\"horse\">\n",
      "        アールスター</td>, <td class=\"horse\">\n",
      "        テリトーリアル</td>, <td class=\"horse\">\n",
      "        シークレットラン</td>, <td class=\"horse\">\n",
      "        ロードクエスト</td>, <td class=\"horse\">\n",
      "<span class=\"horse_icon\"><img alt=\"マルチ\" src=\"/JRADB/img/kigo/maru-chi.png\"/></span>マウントゴールド</td>, <td class=\"horse\">\n",
      "        バイオスパーク</td>, <td class=\"horse\">\n",
      "        カデナ</td>, <td class=\"horse\">\n",
      "        ヴァンケドミンゴ</td>, <td class=\"horse\">\n",
      "        ショウナンバルディ</td>, <td class=\"horse\">\n",
      "        ディープボンド</td>, <td class=\"horse\">\n",
      "        リュヌルージュ</td>, <td class=\"horse\">\n",
      "<div class=\"horse\">\n",
      "\t          \tマイネルサーパス<div class=\"icon blinker\"><img alt=\"ブリンカー着用\" src=\"/JRADB/img/kigo/icon_blinker.png\"/></div>\n",
      "</div>\n",
      "</td>, <td class=\"horse\">\n",
      "<span class=\"horse_icon\"><img alt=\"マルガイ\" src=\"/JRADB/img/kigo/maru-gai.png\"/></span>ダーリントンホール</td>]\n"
     ]
    }
   ],
   "source": [
    "print(horses)"
   ]
  },
  {
   "cell_type": "code",
   "execution_count": 5,
   "metadata": {},
   "outputs": [],
   "source": [
    "horses_text = [horse.text for horse in horses]"
   ]
  },
  {
   "cell_type": "code",
   "execution_count": 6,
   "metadata": {},
   "outputs": [],
   "source": [
    "def name_modifier(name):\n",
    "    name = name.strip()\n",
    "    name = name.strip('\\t')\n",
    "    name = name.strip('\\n')\n",
    "    return name"
   ]
  },
  {
   "cell_type": "code",
   "execution_count": 7,
   "metadata": {},
   "outputs": [],
   "source": [
    "horses_text = list(map(name_modifier, horses_text))"
   ]
  },
  {
   "cell_type": "code",
   "execution_count": 8,
   "metadata": {},
   "outputs": [],
   "source": [
    "waku = soup.find_all('td', class_='waku')"
   ]
  },
  {
   "cell_type": "code",
   "execution_count": 9,
   "metadata": {},
   "outputs": [],
   "source": [
    "waku_num = []\n",
    "for w in waku:\n",
    "    m = re.search(r'.+\".(\\d).\".+', str(w))\n",
    "    waku_num.append(m.group(1))"
   ]
  },
  {
   "cell_type": "code",
   "execution_count": 10,
   "metadata": {},
   "outputs": [
    {
     "data": {
      "text/plain": [
       "['5',\n",
       " '2',\n",
       " '8',\n",
       " '6',\n",
       " '5',\n",
       " '1',\n",
       " '7',\n",
       " '1',\n",
       " '4',\n",
       " '8',\n",
       " '3',\n",
       " '7',\n",
       " '3',\n",
       " '6',\n",
       " '4',\n",
       " '2',\n",
       " '8']"
      ]
     },
     "execution_count": 10,
     "metadata": {},
     "output_type": "execute_result"
    }
   ],
   "source": [
    "waku_num"
   ]
  },
  {
   "cell_type": "code",
   "execution_count": 11,
   "metadata": {},
   "outputs": [],
   "source": [
    "ages_pre = soup.find_all('td', class_='age')"
   ]
  },
  {
   "cell_type": "code",
   "execution_count": 12,
   "metadata": {},
   "outputs": [],
   "source": [
    "sexes, ages = [], []\n",
    "for a in ages_pre:\n",
    "    m = re.search(r'.+(牡|牝)(\\d).+', str(a))\n",
    "    # male or female (male : 0, female : 1, error : -1)\n",
    "    if m.group(1) == '牡': sexes.append(0)\n",
    "    elif m.group(1) == '牝': sexes.append(1)\n",
    "    else: sexes.append(-1)\n",
    "        \n",
    "    # append age    \n",
    "    ages.append(int(m.group(2)))"
   ]
  },
  {
   "cell_type": "code",
   "execution_count": 13,
   "metadata": {},
   "outputs": [
    {
     "data": {
      "text/plain": [
       "[5, 4, 7, 5, 6, 7, 5, 8, 8, 6, 7, 5, 5, 4, 6, 5, 4]"
      ]
     },
     "execution_count": 13,
     "metadata": {},
     "output_type": "execute_result"
    }
   ],
   "source": [
    "ages"
   ]
  },
  {
   "cell_type": "code",
   "execution_count": 14,
   "metadata": {},
   "outputs": [
    {
     "data": {
      "text/plain": [
       "[0, 0, 0, 1, 0, 0, 0, 0, 0, 0, 0, 0, 0, 0, 1, 0, 0]"
      ]
     },
     "execution_count": 14,
     "metadata": {},
     "output_type": "execute_result"
    }
   ],
   "source": [
    "sexes"
   ]
  },
  {
   "cell_type": "code",
   "execution_count": 15,
   "metadata": {},
   "outputs": [],
   "source": [
    "weights_pre = soup.find_all('td', class_='weight')"
   ]
  },
  {
   "cell_type": "code",
   "execution_count": 16,
   "metadata": {},
   "outputs": [],
   "source": [
    "weights = []\n",
    "for w in weights_pre:\n",
    "    m = re.search(r'.+t\">(.+)</t.*', str(w))\n",
    "    weights.append(float(m.group(1)))"
   ]
  },
  {
   "cell_type": "code",
   "execution_count": 17,
   "metadata": {},
   "outputs": [],
   "source": [
    "jockeys_pre = soup.find_all('td', class_=\"jockey\")"
   ]
  },
  {
   "cell_type": "code",
   "execution_count": 18,
   "metadata": {},
   "outputs": [],
   "source": [
    "jockeys = []\n",
    "for j in jockeys_pre:\n",
    "    m = re.search(r'.+y\">(.+)</t.*', str(j))\n",
    "    jockeys.append(m.group(1))"
   ]
  },
  {
   "cell_type": "code",
   "execution_count": 19,
   "metadata": {},
   "outputs": [],
   "source": [
    "times_pre = soup.find_all('td', class_='time')"
   ]
  },
  {
   "cell_type": "code",
   "execution_count": 20,
   "metadata": {},
   "outputs": [
    {
     "data": {
      "text/plain": [
       "[<td class=\"time\">2:00.9</td>,\n",
       " <td class=\"time\">2:00.9</td>,\n",
       " <td class=\"time\">2:01.2</td>,\n",
       " <td class=\"time\">2:01.4</td>,\n",
       " <td class=\"time\">2:01.4</td>,\n",
       " <td class=\"time\">2:01.4</td>,\n",
       " <td class=\"time\">2:01.6</td>,\n",
       " <td class=\"time\">2:01.7</td>,\n",
       " <td class=\"time\">2:01.7</td>,\n",
       " <td class=\"time\">2:01.8</td>,\n",
       " <td class=\"time\">2:01.8</td>,\n",
       " <td class=\"time\">2:01.8</td>,\n",
       " <td class=\"time\">2:01.9</td>,\n",
       " <td class=\"time\">2:02.0</td>,\n",
       " <td class=\"time\">2:02.1</td>,\n",
       " <td class=\"time\">2:02.3</td>,\n",
       " <td class=\"time\">2:03.6</td>]"
      ]
     },
     "execution_count": 20,
     "metadata": {},
     "output_type": "execute_result"
    }
   ],
   "source": [
    "times_pre"
   ]
  },
  {
   "cell_type": "code",
   "execution_count": 21,
   "metadata": {},
   "outputs": [],
   "source": [
    "times = []\n",
    "for t in times_pre:\n",
    "    m = re.search(r'.+e\">(\\d+):(.+)</t.+', str(t))\n",
    "    time = float(m.group(1)) * 60 + float(m.group(2))\n",
    "    times.append(time)"
   ]
  },
  {
   "cell_type": "code",
   "execution_count": 22,
   "metadata": {},
   "outputs": [],
   "source": [
    "h_weights_pre = soup.find_all('td', class_='h_weight')"
   ]
  },
  {
   "cell_type": "code",
   "execution_count": 23,
   "metadata": {},
   "outputs": [],
   "source": [
    "h_weights, h_weight_diffs = [], []\n",
    "for hw in h_weights_pre:\n",
    "    m = re.search(r'.+t\">(\\d+)<span>\\((.+)\\).+', str(hw))\n",
    "    h_weights.append(int(m.group(1)))\n",
    "    h_weight_diffs.append(int(m.group(2)))"
   ]
  },
  {
   "cell_type": "code",
   "execution_count": 24,
   "metadata": {},
   "outputs": [],
   "source": [
    "trainers_pre = soup.find_all('td', class_= 'trainer')"
   ]
  },
  {
   "cell_type": "code",
   "execution_count": 25,
   "metadata": {},
   "outputs": [],
   "source": [
    "trainers = []\n",
    "for t in trainers_pre:\n",
    "    m = re.search(r'.+r\">(.+)</t.+', str(t))\n",
    "    trainers.append(m.group(1))"
   ]
  },
  {
   "cell_type": "code",
   "execution_count": 26,
   "metadata": {},
   "outputs": [],
   "source": [
    "pops_pre = soup.find_all('td', class_='pop')"
   ]
  },
  {
   "cell_type": "code",
   "execution_count": 27,
   "metadata": {},
   "outputs": [],
   "source": [
    "pops = []\n",
    "for p in pops_pre:\n",
    "    m = re.search(r'.+p\">(\\d+)</t.+', str(p))\n",
    "    pops.append(int(m.group(1)))"
   ]
  },
  {
   "cell_type": "code",
   "execution_count": 28,
   "metadata": {},
   "outputs": [],
   "source": [
    "nums_pre = soup.find_all('td', class_='num')"
   ]
  },
  {
   "cell_type": "code",
   "execution_count": 29,
   "metadata": {},
   "outputs": [],
   "source": [
    "nums = []\n",
    "for n in nums_pre:\n",
    "    m = re.search(r'.+m\">(\\d+)</t.+', str(n))\n",
    "    nums.append(int(m.group(1)))"
   ]
  },
  {
   "cell_type": "code",
   "execution_count": 30,
   "metadata": {},
   "outputs": [],
   "source": [
    "dist = soup.find_all('div', class_='cell course')"
   ]
  },
  {
   "cell_type": "code",
   "execution_count": 31,
   "metadata": {},
   "outputs": [
    {
     "data": {
      "text/plain": [
       "[<div class=\"cell course\">\n",
       " <span class=\"cap\">コース：</span>2,000<span class=\"unit\">メートル</span><span class=\"detail\">（芝・右）</span></div>]"
      ]
     },
     "execution_count": 31,
     "metadata": {},
     "output_type": "execute_result"
    }
   ],
   "source": [
    "dist"
   ]
  },
  {
   "cell_type": "code",
   "execution_count": 32,
   "metadata": {},
   "outputs": [
    {
     "data": {
      "text/plain": [
       "'<div class=\"cell course\">\\n<span class=\"cap\">コース：</span>2,000<span class=\"unit\">メートル</span><span class=\"detail\">（芝・右）</span></div>'"
      ]
     },
     "execution_count": 32,
     "metadata": {},
     "output_type": "execute_result"
    }
   ],
   "source": [
    "str(dist[0])"
   ]
  },
  {
   "cell_type": "code",
   "execution_count": 33,
   "metadata": {},
   "outputs": [],
   "source": [
    "m = re.search(r'.+コース：</span>(.+)<span class=\"u.+l\">（(.)・(.).+', str(dist[0]))"
   ]
  },
  {
   "cell_type": "code",
   "execution_count": 34,
   "metadata": {},
   "outputs": [],
   "source": [
    "distance = int(m.group(1)[:1] + m.group(1)[2:])"
   ]
  },
  {
   "cell_type": "code",
   "execution_count": 35,
   "metadata": {},
   "outputs": [],
   "source": [
    "course = m.group(2)\n",
    "direction = m.group(3)"
   ]
  },
  {
   "cell_type": "code",
   "execution_count": 36,
   "metadata": {},
   "outputs": [],
   "source": [
    "start_time_pre = soup.find_all('div', class_='cell time')"
   ]
  },
  {
   "cell_type": "code",
   "execution_count": 37,
   "metadata": {},
   "outputs": [
    {
     "data": {
      "text/plain": [
       "[<div class=\"cell time\">\n",
       "         発走時刻：<strong>15時35分</strong>\n",
       " </div>]"
      ]
     },
     "execution_count": 37,
     "metadata": {},
     "output_type": "execute_result"
    }
   ],
   "source": [
    "start_time_pre"
   ]
  },
  {
   "cell_type": "code",
   "execution_count": 38,
   "metadata": {},
   "outputs": [],
   "source": [
    "m = re.search(r'.+ng>(\\d+)時(\\d+)分.+', str(start_time_pre[0]))"
   ]
  },
  {
   "cell_type": "code",
   "execution_count": 39,
   "metadata": {},
   "outputs": [],
   "source": [
    "start_h = int(m.group(1))"
   ]
  },
  {
   "cell_type": "code",
   "execution_count": 40,
   "metadata": {},
   "outputs": [],
   "source": [
    "start_m = int(m.group(2))"
   ]
  },
  {
   "cell_type": "code",
   "execution_count": 41,
   "metadata": {},
   "outputs": [],
   "source": [
    "weather_pre = soup.find_all('div', class_='cell baba')"
   ]
  },
  {
   "cell_type": "code",
   "execution_count": 42,
   "metadata": {},
   "outputs": [
    {
     "data": {
      "text/plain": [
       "[<div class=\"cell baba\">\n",
       " <ul>\n",
       " <li class=\"weather\"><span class=\"inner\"><span class=\"cap\">天候</span><span class=\"txt\">曇</span></span></li><li class=\"turf\"><span class=\"inner\"><span class=\"cap\">芝</span><span class=\"txt\">良</span></span></li></ul>\n",
       " </div>]"
      ]
     },
     "execution_count": 42,
     "metadata": {},
     "output_type": "execute_result"
    }
   ],
   "source": [
    "weather_pre"
   ]
  },
  {
   "cell_type": "code",
   "execution_count": 43,
   "metadata": {},
   "outputs": [],
   "source": [
    "m = re.search(r'.+天候</span><span class=\"txt\">(.).+', str(weather_pre[0]))"
   ]
  },
  {
   "cell_type": "code",
   "execution_count": 44,
   "metadata": {},
   "outputs": [],
   "source": [
    "weather = m.group(1)"
   ]
  },
  {
   "cell_type": "code",
   "execution_count": 45,
   "metadata": {},
   "outputs": [],
   "source": [
    "date_pre = soup.find_all('div', class_='cell date')"
   ]
  },
  {
   "cell_type": "code",
   "execution_count": 46,
   "metadata": {},
   "outputs": [
    {
     "data": {
      "text/plain": [
       "[<div class=\"cell date\">2021年1月5日（火曜） 1回中山1日</div>]"
      ]
     },
     "execution_count": 46,
     "metadata": {},
     "output_type": "execute_result"
    }
   ],
   "source": [
    "date_pre"
   ]
  },
  {
   "cell_type": "code",
   "execution_count": 47,
   "metadata": {},
   "outputs": [],
   "source": [
    "m = re.search(r'e\">(\\d+)年(\\d)月(\\d)日.+', str(date_pre[0]))\n",
    "year = int(m.group(1))\n",
    "month = int(m.group(2))\n",
    "day = int(m.group(3))"
   ]
  },
  {
   "cell_type": "markdown",
   "metadata": {},
   "source": [
    "# DataFrame"
   ]
  },
  {
   "cell_type": "code",
   "execution_count": 48,
   "metadata": {},
   "outputs": [],
   "source": [
    "import pandas as pd"
   ]
  },
  {
   "cell_type": "code",
   "execution_count": 49,
   "metadata": {},
   "outputs": [],
   "source": [
    "distance_df = [distance for i in range(len(horses_text))]\n",
    "course_df = [course for i in range(len(horses_text))]\n",
    "direction_df = [direction for i in range(len(horses_text))]\n",
    "start_h_df = [start_h for i in range(len(horses_text))]\n",
    "start_m_df = [start_m for i in range(len(horses_text))]\n",
    "weather_df = [weather for i in range(len(horses_text))]\n",
    "year_df = [year for i in range(len(horses_text))]\n",
    "month_df = [month for i in range(len(horses_text))]\n",
    "day_df = [day for i in range(len(horses_text))]"
   ]
  },
  {
   "cell_type": "code",
   "execution_count": 50,
   "metadata": {},
   "outputs": [],
   "source": [
    "df_list = [horses_text, waku_num, nums, sexes, ages, weights, jockeys, h_weights, h_weight_diffs,\n",
    "          trainers, pops, distance_df, course_df, start_h_df, start_m_df, weather_df, \n",
    "           year_df, month_df, day_df, times]"
   ]
  },
  {
   "cell_type": "code",
   "execution_count": 51,
   "metadata": {},
   "outputs": [
    {
     "data": {
      "text/plain": [
       "[['ヒシイグアス',\n",
       "  'ココロノトウダイ',\n",
       "  'ウインイクシード',\n",
       "  'ロザムール',\n",
       "  'アールスター',\n",
       "  'テリトーリアル',\n",
       "  'シークレットラン',\n",
       "  'ロードクエスト',\n",
       "  'マウントゴールド',\n",
       "  'バイオスパーク',\n",
       "  'カデナ',\n",
       "  'ヴァンケドミンゴ',\n",
       "  'ショウナンバルディ',\n",
       "  'ディープボンド',\n",
       "  'リュヌルージュ',\n",
       "  'マイネルサーパス',\n",
       "  'ダーリントンホール'],\n",
       " ['5',\n",
       "  '2',\n",
       "  '8',\n",
       "  '6',\n",
       "  '5',\n",
       "  '1',\n",
       "  '7',\n",
       "  '1',\n",
       "  '4',\n",
       "  '8',\n",
       "  '3',\n",
       "  '7',\n",
       "  '3',\n",
       "  '6',\n",
       "  '4',\n",
       "  '2',\n",
       "  '8'],\n",
       " [9, 3, 16, 12, 10, 2, 13, 1, 7, 17, 6, 14, 5, 11, 8, 4, 15],\n",
       " [0, 0, 0, 1, 0, 0, 0, 0, 0, 0, 0, 0, 0, 0, 1, 0, 0],\n",
       " [5, 4, 7, 5, 6, 7, 5, 8, 8, 6, 7, 5, 5, 4, 6, 5, 4],\n",
       " [54.0,\n",
       "  53.0,\n",
       "  56.0,\n",
       "  52.0,\n",
       "  56.0,\n",
       "  56.5,\n",
       "  54.0,\n",
       "  56.0,\n",
       "  56.0,\n",
       "  57.0,\n",
       "  58.0,\n",
       "  56.0,\n",
       "  54.0,\n",
       "  56.0,\n",
       "  52.0,\n",
       "  56.5,\n",
       "  55.0],\n",
       " ['松山 弘平',\n",
       "  '丸山 元気',\n",
       "  '戸崎 圭太',\n",
       "  '北村 宏司',\n",
       "  '長岡 禎仁',\n",
       "  '石川 裕紀人',\n",
       "  '横山 武史',\n",
       "  '西村 淳也',\n",
       "  '内田 博幸',\n",
       "  '池添 謙一',\n",
       "  '三浦 皇成',\n",
       "  '藤岡 康太',\n",
       "  '津村 明秀',\n",
       "  '和田 竜二',\n",
       "  '中井 裕二',\n",
       "  '丹内 祐次',\n",
       "  'M.デムーロ'],\n",
       " [496,\n",
       "  528,\n",
       "  498,\n",
       "  502,\n",
       "  508,\n",
       "  476,\n",
       "  504,\n",
       "  466,\n",
       "  464,\n",
       "  478,\n",
       "  480,\n",
       "  472,\n",
       "  444,\n",
       "  492,\n",
       "  468,\n",
       "  484,\n",
       "  536],\n",
       " [2, 10, 0, 8, 4, 0, 4, 4, -2, 6, 2, 4, -2, 8, -10, 2, 16],\n",
       " ['堀 宣行',\n",
       "  '手塚 貴久',\n",
       "  '鈴木 伸尋',\n",
       "  '上原 博之',\n",
       "  '杉山 晴紀',\n",
       "  '西浦 勝一',\n",
       "  '田村 康仁',\n",
       "  '小島 茂之',\n",
       "  '池江 泰寿',\n",
       "  '浜田 多実雄',\n",
       "  '中竹 和也',\n",
       "  '藤岡 健一',\n",
       "  '松下 武士',\n",
       "  '大久保 龍志',\n",
       "  '斉藤 崇史',\n",
       "  '高木 登',\n",
       "  '木村 哲也'],\n",
       " [1, 5, 11, 14, 13, 3, 7, 17, 15, 9, 6, 4, 8, 2, 12, 16, 10],\n",
       " [2000,\n",
       "  2000,\n",
       "  2000,\n",
       "  2000,\n",
       "  2000,\n",
       "  2000,\n",
       "  2000,\n",
       "  2000,\n",
       "  2000,\n",
       "  2000,\n",
       "  2000,\n",
       "  2000,\n",
       "  2000,\n",
       "  2000,\n",
       "  2000,\n",
       "  2000,\n",
       "  2000],\n",
       " ['芝',\n",
       "  '芝',\n",
       "  '芝',\n",
       "  '芝',\n",
       "  '芝',\n",
       "  '芝',\n",
       "  '芝',\n",
       "  '芝',\n",
       "  '芝',\n",
       "  '芝',\n",
       "  '芝',\n",
       "  '芝',\n",
       "  '芝',\n",
       "  '芝',\n",
       "  '芝',\n",
       "  '芝',\n",
       "  '芝'],\n",
       " [15, 15, 15, 15, 15, 15, 15, 15, 15, 15, 15, 15, 15, 15, 15, 15, 15],\n",
       " [35, 35, 35, 35, 35, 35, 35, 35, 35, 35, 35, 35, 35, 35, 35, 35, 35],\n",
       " ['曇',\n",
       "  '曇',\n",
       "  '曇',\n",
       "  '曇',\n",
       "  '曇',\n",
       "  '曇',\n",
       "  '曇',\n",
       "  '曇',\n",
       "  '曇',\n",
       "  '曇',\n",
       "  '曇',\n",
       "  '曇',\n",
       "  '曇',\n",
       "  '曇',\n",
       "  '曇',\n",
       "  '曇',\n",
       "  '曇'],\n",
       " [2021,\n",
       "  2021,\n",
       "  2021,\n",
       "  2021,\n",
       "  2021,\n",
       "  2021,\n",
       "  2021,\n",
       "  2021,\n",
       "  2021,\n",
       "  2021,\n",
       "  2021,\n",
       "  2021,\n",
       "  2021,\n",
       "  2021,\n",
       "  2021,\n",
       "  2021,\n",
       "  2021],\n",
       " [1, 1, 1, 1, 1, 1, 1, 1, 1, 1, 1, 1, 1, 1, 1, 1, 1],\n",
       " [5, 5, 5, 5, 5, 5, 5, 5, 5, 5, 5, 5, 5, 5, 5, 5, 5],\n",
       " [120.9,\n",
       "  120.9,\n",
       "  121.2,\n",
       "  121.4,\n",
       "  121.4,\n",
       "  121.4,\n",
       "  121.6,\n",
       "  121.7,\n",
       "  121.7,\n",
       "  121.8,\n",
       "  121.8,\n",
       "  121.8,\n",
       "  121.9,\n",
       "  122.0,\n",
       "  122.1,\n",
       "  122.3,\n",
       "  123.6]]"
      ]
     },
     "execution_count": 51,
     "metadata": {},
     "output_type": "execute_result"
    }
   ],
   "source": [
    "df_list"
   ]
  },
  {
   "cell_type": "code",
   "execution_count": 52,
   "metadata": {},
   "outputs": [],
   "source": [
    "df_r = pd.DataFrame(df_list).T"
   ]
  },
  {
   "cell_type": "code",
   "execution_count": 53,
   "metadata": {},
   "outputs": [],
   "source": [
    "df_r.columns = ['horse', 'waku', 'umaban', 'sex', 'age', 'weight', 'jockey', 'horse_weight', 'horse_weight_diff',\n",
    "             'trainer', 'pop', 'distance', 'course', 'start_h', 'start_m', 'weather', 'year', 'month', 'day', 'time'] "
   ]
  },
  {
   "cell_type": "code",
   "execution_count": 59,
   "metadata": {},
   "outputs": [
    {
     "ename": "ValueError",
     "evalue": "Length mismatch: Expected axis has 0 elements, new values have 20 elements",
     "output_type": "error",
     "traceback": [
      "\u001b[0;31m---------------------------------------------------------------------------\u001b[0m",
      "\u001b[0;31mValueError\u001b[0m                                Traceback (most recent call last)",
      "\u001b[0;32m<ipython-input-59-980b856f1f9c>\u001b[0m in \u001b[0;36m<module>\u001b[0;34m\u001b[0m\n\u001b[0;32m----> 1\u001b[0;31m df.columns = ['horse', 'waku', 'umaban', 'sex', 'age', 'weight', 'jockey', 'horse_weight', 'horse_weight_diff',\n\u001b[0m\u001b[1;32m      2\u001b[0m              'trainer', 'pop', 'distance', 'course', 'start_h', 'start_m', 'weather', 'year', 'month', 'day', 'time'] \n",
      "\u001b[0;32m~/.pyenv/versions/anaconda3-2020.07/lib/python3.8/site-packages/pandas/core/generic.py\u001b[0m in \u001b[0;36m__setattr__\u001b[0;34m(self, name, value)\u001b[0m\n\u001b[1;32m   5285\u001b[0m         \u001b[0;32mtry\u001b[0m\u001b[0;34m:\u001b[0m\u001b[0;34m\u001b[0m\u001b[0;34m\u001b[0m\u001b[0m\n\u001b[1;32m   5286\u001b[0m             \u001b[0mobject\u001b[0m\u001b[0;34m.\u001b[0m\u001b[0m__getattribute__\u001b[0m\u001b[0;34m(\u001b[0m\u001b[0mself\u001b[0m\u001b[0;34m,\u001b[0m \u001b[0mname\u001b[0m\u001b[0;34m)\u001b[0m\u001b[0;34m\u001b[0m\u001b[0;34m\u001b[0m\u001b[0m\n\u001b[0;32m-> 5287\u001b[0;31m             \u001b[0;32mreturn\u001b[0m \u001b[0mobject\u001b[0m\u001b[0;34m.\u001b[0m\u001b[0m__setattr__\u001b[0m\u001b[0;34m(\u001b[0m\u001b[0mself\u001b[0m\u001b[0;34m,\u001b[0m \u001b[0mname\u001b[0m\u001b[0;34m,\u001b[0m \u001b[0mvalue\u001b[0m\u001b[0;34m)\u001b[0m\u001b[0;34m\u001b[0m\u001b[0;34m\u001b[0m\u001b[0m\n\u001b[0m\u001b[1;32m   5288\u001b[0m         \u001b[0;32mexcept\u001b[0m \u001b[0mAttributeError\u001b[0m\u001b[0;34m:\u001b[0m\u001b[0;34m\u001b[0m\u001b[0;34m\u001b[0m\u001b[0m\n\u001b[1;32m   5289\u001b[0m             \u001b[0;32mpass\u001b[0m\u001b[0;34m\u001b[0m\u001b[0;34m\u001b[0m\u001b[0m\n",
      "\u001b[0;32mpandas/_libs/properties.pyx\u001b[0m in \u001b[0;36mpandas._libs.properties.AxisProperty.__set__\u001b[0;34m()\u001b[0m\n",
      "\u001b[0;32m~/.pyenv/versions/anaconda3-2020.07/lib/python3.8/site-packages/pandas/core/generic.py\u001b[0m in \u001b[0;36m_set_axis\u001b[0;34m(self, axis, labels)\u001b[0m\n\u001b[1;32m    659\u001b[0m \u001b[0;34m\u001b[0m\u001b[0m\n\u001b[1;32m    660\u001b[0m     \u001b[0;32mdef\u001b[0m \u001b[0m_set_axis\u001b[0m\u001b[0;34m(\u001b[0m\u001b[0mself\u001b[0m\u001b[0;34m,\u001b[0m \u001b[0maxis\u001b[0m\u001b[0;34m,\u001b[0m \u001b[0mlabels\u001b[0m\u001b[0;34m)\u001b[0m \u001b[0;34m->\u001b[0m \u001b[0;32mNone\u001b[0m\u001b[0;34m:\u001b[0m\u001b[0;34m\u001b[0m\u001b[0;34m\u001b[0m\u001b[0m\n\u001b[0;32m--> 661\u001b[0;31m         \u001b[0mself\u001b[0m\u001b[0;34m.\u001b[0m\u001b[0m_data\u001b[0m\u001b[0;34m.\u001b[0m\u001b[0mset_axis\u001b[0m\u001b[0;34m(\u001b[0m\u001b[0maxis\u001b[0m\u001b[0;34m,\u001b[0m \u001b[0mlabels\u001b[0m\u001b[0;34m)\u001b[0m\u001b[0;34m\u001b[0m\u001b[0;34m\u001b[0m\u001b[0m\n\u001b[0m\u001b[1;32m    662\u001b[0m         \u001b[0mself\u001b[0m\u001b[0;34m.\u001b[0m\u001b[0m_clear_item_cache\u001b[0m\u001b[0;34m(\u001b[0m\u001b[0;34m)\u001b[0m\u001b[0;34m\u001b[0m\u001b[0;34m\u001b[0m\u001b[0m\n\u001b[1;32m    663\u001b[0m \u001b[0;34m\u001b[0m\u001b[0m\n",
      "\u001b[0;32m~/.pyenv/versions/anaconda3-2020.07/lib/python3.8/site-packages/pandas/core/internals/managers.py\u001b[0m in \u001b[0;36mset_axis\u001b[0;34m(self, axis, new_labels)\u001b[0m\n\u001b[1;32m    175\u001b[0m \u001b[0;34m\u001b[0m\u001b[0m\n\u001b[1;32m    176\u001b[0m         \u001b[0;32mif\u001b[0m \u001b[0mnew_len\u001b[0m \u001b[0;34m!=\u001b[0m \u001b[0mold_len\u001b[0m\u001b[0;34m:\u001b[0m\u001b[0;34m\u001b[0m\u001b[0;34m\u001b[0m\u001b[0m\n\u001b[0;32m--> 177\u001b[0;31m             raise ValueError(\n\u001b[0m\u001b[1;32m    178\u001b[0m                 \u001b[0;34mf\"Length mismatch: Expected axis has {old_len} elements, new \"\u001b[0m\u001b[0;34m\u001b[0m\u001b[0;34m\u001b[0m\u001b[0m\n\u001b[1;32m    179\u001b[0m                 \u001b[0;34mf\"values have {new_len} elements\"\u001b[0m\u001b[0;34m\u001b[0m\u001b[0;34m\u001b[0m\u001b[0m\n",
      "\u001b[0;31mValueError\u001b[0m: Length mismatch: Expected axis has 0 elements, new values have 20 elements"
     ]
    }
   ],
   "source": [
    "df.columns = ['horse', 'waku', 'umaban', 'sex', 'age', 'weight', 'jockey', 'horse_weight', 'horse_weight_diff',\n",
    "             'trainer', 'pop', 'distance', 'course', 'start_h', 'start_m', 'weather', 'year', 'month', 'day', 'time'] "
   ]
  },
  {
   "cell_type": "code",
   "execution_count": 56,
   "metadata": {},
   "outputs": [
    {
     "data": {
      "text/html": [
       "<div>\n",
       "<style scoped>\n",
       "    .dataframe tbody tr th:only-of-type {\n",
       "        vertical-align: middle;\n",
       "    }\n",
       "\n",
       "    .dataframe tbody tr th {\n",
       "        vertical-align: top;\n",
       "    }\n",
       "\n",
       "    .dataframe thead th {\n",
       "        text-align: right;\n",
       "    }\n",
       "</style>\n",
       "<table border=\"1\" class=\"dataframe\">\n",
       "  <thead>\n",
       "    <tr style=\"text-align: right;\">\n",
       "      <th></th>\n",
       "    </tr>\n",
       "  </thead>\n",
       "  <tbody>\n",
       "  </tbody>\n",
       "</table>\n",
       "</div>"
      ],
      "text/plain": [
       "Empty DataFrame\n",
       "Columns: []\n",
       "Index: []"
      ]
     },
     "execution_count": 56,
     "metadata": {},
     "output_type": "execute_result"
    }
   ],
   "source": [
    "df.head()"
   ]
  },
  {
   "cell_type": "code",
   "execution_count": 57,
   "metadata": {},
   "outputs": [],
   "source": [
    "race_num = '1'.zfill(3)"
   ]
  },
  {
   "cell_type": "code",
   "execution_count": 58,
   "metadata": {},
   "outputs": [
    {
     "data": {
      "text/plain": [
       "'001'"
      ]
     },
     "execution_count": 58,
     "metadata": {},
     "output_type": "execute_result"
    }
   ],
   "source": [
    "race_num"
   ]
  },
  {
   "cell_type": "code",
   "execution_count": 60,
   "metadata": {},
   "outputs": [
    {
     "data": {
      "text/plain": [
       "20"
      ]
     },
     "execution_count": 60,
     "metadata": {},
     "output_type": "execute_result"
    }
   ],
   "source": [
    "len(df_list)"
   ]
  },
  {
   "cell_type": "code",
   "execution_count": 63,
   "metadata": {},
   "outputs": [
    {
     "data": {
      "text/plain": [
       "[[],\n",
       " [],\n",
       " [],\n",
       " [],\n",
       " [],\n",
       " [],\n",
       " [],\n",
       " [],\n",
       " [],\n",
       " [],\n",
       " [],\n",
       " [],\n",
       " [],\n",
       " [],\n",
       " [],\n",
       " [],\n",
       " [],\n",
       " [],\n",
       " [],\n",
       " [],\n",
       " []]"
      ]
     },
     "execution_count": 63,
     "metadata": {},
     "output_type": "execute_result"
    }
   ],
   "source": [
    "[[] for i in range(21)]"
   ]
  },
  {
   "cell_type": "code",
   "execution_count": 64,
   "metadata": {},
   "outputs": [],
   "source": [
    "a, b = [1, 2, 3], [4, 5, 6]"
   ]
  },
  {
   "cell_type": "code",
   "execution_count": 68,
   "metadata": {},
   "outputs": [],
   "source": [
    "a = a + b"
   ]
  },
  {
   "cell_type": "code",
   "execution_count": 69,
   "metadata": {},
   "outputs": [
    {
     "data": {
      "text/plain": [
       "[1, 2, 3, 4, 5, 6, 4, 5, 6]"
      ]
     },
     "execution_count": 69,
     "metadata": {},
     "output_type": "execute_result"
    }
   ],
   "source": [
    "a"
   ]
  },
  {
   "cell_type": "code",
   "execution_count": 1,
   "metadata": {},
   "outputs": [],
   "source": [
    "import scraping"
   ]
  },
  {
   "cell_type": "code",
   "execution_count": 2,
   "metadata": {},
   "outputs": [
    {
     "name": "stdout",
     "output_type": "stream",
     "text": [
      "race 1\n",
      "race 2\n",
      "race 3\n",
      "race 4\n",
      "race 5\n",
      "race 6\n",
      "race 7\n",
      "race 8\n",
      "race 9\n",
      "race 10\n",
      "race 11\n",
      "race 12\n",
      "race 13\n",
      "race 14\n",
      "race 15\n",
      "race 16\n",
      "race 17\n",
      "race 18\n",
      "race 19\n",
      "race 20\n",
      "race 21\n"
     ]
    }
   ],
   "source": [
    "df = scraping.get_dataset(21)"
   ]
  },
  {
   "cell_type": "code",
   "execution_count": 3,
   "metadata": {},
   "outputs": [
    {
     "data": {
      "text/html": [
       "<div>\n",
       "<style scoped>\n",
       "    .dataframe tbody tr th:only-of-type {\n",
       "        vertical-align: middle;\n",
       "    }\n",
       "\n",
       "    .dataframe tbody tr th {\n",
       "        vertical-align: top;\n",
       "    }\n",
       "\n",
       "    .dataframe thead th {\n",
       "        text-align: right;\n",
       "    }\n",
       "</style>\n",
       "<table border=\"1\" class=\"dataframe\">\n",
       "  <thead>\n",
       "    <tr style=\"text-align: right;\">\n",
       "      <th></th>\n",
       "      <th>horse</th>\n",
       "      <th>waku</th>\n",
       "      <th>umaban</th>\n",
       "      <th>sex</th>\n",
       "      <th>age</th>\n",
       "      <th>weight</th>\n",
       "      <th>jockey</th>\n",
       "      <th>horse_weight</th>\n",
       "      <th>horse_weight_diff</th>\n",
       "      <th>trainer</th>\n",
       "      <th>...</th>\n",
       "      <th>distance</th>\n",
       "      <th>course</th>\n",
       "      <th>direction</th>\n",
       "      <th>start_h</th>\n",
       "      <th>start_m</th>\n",
       "      <th>weather</th>\n",
       "      <th>year</th>\n",
       "      <th>month</th>\n",
       "      <th>day</th>\n",
       "      <th>time</th>\n",
       "    </tr>\n",
       "  </thead>\n",
       "  <tbody>\n",
       "    <tr>\n",
       "      <th>0</th>\n",
       "      <td>ヒシイグアス</td>\n",
       "      <td>5</td>\n",
       "      <td>9</td>\n",
       "      <td>0</td>\n",
       "      <td>5</td>\n",
       "      <td>54</td>\n",
       "      <td>松山 弘平</td>\n",
       "      <td>496</td>\n",
       "      <td>2</td>\n",
       "      <td>堀 宣行</td>\n",
       "      <td>...</td>\n",
       "      <td>2000</td>\n",
       "      <td>芝</td>\n",
       "      <td>右</td>\n",
       "      <td>15</td>\n",
       "      <td>35</td>\n",
       "      <td>曇</td>\n",
       "      <td>2021</td>\n",
       "      <td>1</td>\n",
       "      <td>5</td>\n",
       "      <td>120.9</td>\n",
       "    </tr>\n",
       "    <tr>\n",
       "      <th>1</th>\n",
       "      <td>ココロノトウダイ</td>\n",
       "      <td>2</td>\n",
       "      <td>3</td>\n",
       "      <td>0</td>\n",
       "      <td>4</td>\n",
       "      <td>53</td>\n",
       "      <td>丸山 元気</td>\n",
       "      <td>528</td>\n",
       "      <td>10</td>\n",
       "      <td>手塚 貴久</td>\n",
       "      <td>...</td>\n",
       "      <td>2000</td>\n",
       "      <td>芝</td>\n",
       "      <td>右</td>\n",
       "      <td>15</td>\n",
       "      <td>35</td>\n",
       "      <td>曇</td>\n",
       "      <td>2021</td>\n",
       "      <td>1</td>\n",
       "      <td>5</td>\n",
       "      <td>120.9</td>\n",
       "    </tr>\n",
       "    <tr>\n",
       "      <th>2</th>\n",
       "      <td>ウインイクシード</td>\n",
       "      <td>8</td>\n",
       "      <td>16</td>\n",
       "      <td>0</td>\n",
       "      <td>7</td>\n",
       "      <td>56</td>\n",
       "      <td>戸崎 圭太</td>\n",
       "      <td>498</td>\n",
       "      <td>0</td>\n",
       "      <td>鈴木 伸尋</td>\n",
       "      <td>...</td>\n",
       "      <td>2000</td>\n",
       "      <td>芝</td>\n",
       "      <td>右</td>\n",
       "      <td>15</td>\n",
       "      <td>35</td>\n",
       "      <td>曇</td>\n",
       "      <td>2021</td>\n",
       "      <td>1</td>\n",
       "      <td>5</td>\n",
       "      <td>121.2</td>\n",
       "    </tr>\n",
       "    <tr>\n",
       "      <th>3</th>\n",
       "      <td>ロザムール</td>\n",
       "      <td>6</td>\n",
       "      <td>12</td>\n",
       "      <td>1</td>\n",
       "      <td>5</td>\n",
       "      <td>52</td>\n",
       "      <td>北村 宏司</td>\n",
       "      <td>502</td>\n",
       "      <td>8</td>\n",
       "      <td>上原 博之</td>\n",
       "      <td>...</td>\n",
       "      <td>2000</td>\n",
       "      <td>芝</td>\n",
       "      <td>右</td>\n",
       "      <td>15</td>\n",
       "      <td>35</td>\n",
       "      <td>曇</td>\n",
       "      <td>2021</td>\n",
       "      <td>1</td>\n",
       "      <td>5</td>\n",
       "      <td>121.4</td>\n",
       "    </tr>\n",
       "    <tr>\n",
       "      <th>4</th>\n",
       "      <td>アールスター</td>\n",
       "      <td>5</td>\n",
       "      <td>10</td>\n",
       "      <td>0</td>\n",
       "      <td>6</td>\n",
       "      <td>56</td>\n",
       "      <td>長岡 禎仁</td>\n",
       "      <td>508</td>\n",
       "      <td>4</td>\n",
       "      <td>杉山 晴紀</td>\n",
       "      <td>...</td>\n",
       "      <td>2000</td>\n",
       "      <td>芝</td>\n",
       "      <td>右</td>\n",
       "      <td>15</td>\n",
       "      <td>35</td>\n",
       "      <td>曇</td>\n",
       "      <td>2021</td>\n",
       "      <td>1</td>\n",
       "      <td>5</td>\n",
       "      <td>121.4</td>\n",
       "    </tr>\n",
       "    <tr>\n",
       "      <th>...</th>\n",
       "      <td>...</td>\n",
       "      <td>...</td>\n",
       "      <td>...</td>\n",
       "      <td>...</td>\n",
       "      <td>...</td>\n",
       "      <td>...</td>\n",
       "      <td>...</td>\n",
       "      <td>...</td>\n",
       "      <td>...</td>\n",
       "      <td>...</td>\n",
       "      <td>...</td>\n",
       "      <td>...</td>\n",
       "      <td>...</td>\n",
       "      <td>...</td>\n",
       "      <td>...</td>\n",
       "      <td>...</td>\n",
       "      <td>...</td>\n",
       "      <td>...</td>\n",
       "      <td>...</td>\n",
       "      <td>...</td>\n",
       "      <td>...</td>\n",
       "    </tr>\n",
       "    <tr>\n",
       "      <th>316</th>\n",
       "      <td>ブラックムーン</td>\n",
       "      <td>8</td>\n",
       "      <td>15</td>\n",
       "      <td>0</td>\n",
       "      <td>9</td>\n",
       "      <td>56</td>\n",
       "      <td>藤井 勘一郎</td>\n",
       "      <td>502</td>\n",
       "      <td>-4</td>\n",
       "      <td>西浦 勝一</td>\n",
       "      <td>...</td>\n",
       "      <td>1400</td>\n",
       "      <td>芝</td>\n",
       "      <td>右</td>\n",
       "      <td>15</td>\n",
       "      <td>35</td>\n",
       "      <td>晴</td>\n",
       "      <td>2021</td>\n",
       "      <td>2</td>\n",
       "      <td>28</td>\n",
       "      <td>80.2</td>\n",
       "    </tr>\n",
       "    <tr>\n",
       "      <th>317</th>\n",
       "      <td>メイショウキョウジ</td>\n",
       "      <td>8</td>\n",
       "      <td>16</td>\n",
       "      <td>0</td>\n",
       "      <td>6</td>\n",
       "      <td>56</td>\n",
       "      <td>酒井 学</td>\n",
       "      <td>484</td>\n",
       "      <td>2</td>\n",
       "      <td>藤岡 健一</td>\n",
       "      <td>...</td>\n",
       "      <td>1400</td>\n",
       "      <td>芝</td>\n",
       "      <td>右</td>\n",
       "      <td>15</td>\n",
       "      <td>35</td>\n",
       "      <td>晴</td>\n",
       "      <td>2021</td>\n",
       "      <td>2</td>\n",
       "      <td>28</td>\n",
       "      <td>80.3</td>\n",
       "    </tr>\n",
       "    <tr>\n",
       "      <th>318</th>\n",
       "      <td>カツジ</td>\n",
       "      <td>2</td>\n",
       "      <td>3</td>\n",
       "      <td>0</td>\n",
       "      <td>6</td>\n",
       "      <td>57</td>\n",
       "      <td>武 豊</td>\n",
       "      <td>504</td>\n",
       "      <td>4</td>\n",
       "      <td>池添 兼雄</td>\n",
       "      <td>...</td>\n",
       "      <td>1400</td>\n",
       "      <td>芝</td>\n",
       "      <td>右</td>\n",
       "      <td>15</td>\n",
       "      <td>35</td>\n",
       "      <td>晴</td>\n",
       "      <td>2021</td>\n",
       "      <td>2</td>\n",
       "      <td>28</td>\n",
       "      <td>80.3</td>\n",
       "    </tr>\n",
       "    <tr>\n",
       "      <th>319</th>\n",
       "      <td>ベストアクター</td>\n",
       "      <td>8</td>\n",
       "      <td>17</td>\n",
       "      <td>-1</td>\n",
       "      <td>7</td>\n",
       "      <td>56</td>\n",
       "      <td>団野 大成</td>\n",
       "      <td>456</td>\n",
       "      <td>8</td>\n",
       "      <td>鹿戸 雄一</td>\n",
       "      <td>...</td>\n",
       "      <td>1400</td>\n",
       "      <td>芝</td>\n",
       "      <td>右</td>\n",
       "      <td>15</td>\n",
       "      <td>35</td>\n",
       "      <td>晴</td>\n",
       "      <td>2021</td>\n",
       "      <td>2</td>\n",
       "      <td>28</td>\n",
       "      <td>80.4</td>\n",
       "    </tr>\n",
       "    <tr>\n",
       "      <th>320</th>\n",
       "      <td>トライン</td>\n",
       "      <td>7</td>\n",
       "      <td>14</td>\n",
       "      <td>0</td>\n",
       "      <td>6</td>\n",
       "      <td>56</td>\n",
       "      <td>池添 謙一</td>\n",
       "      <td>470</td>\n",
       "      <td>10</td>\n",
       "      <td>浜田 多実雄</td>\n",
       "      <td>...</td>\n",
       "      <td>1400</td>\n",
       "      <td>芝</td>\n",
       "      <td>右</td>\n",
       "      <td>15</td>\n",
       "      <td>35</td>\n",
       "      <td>晴</td>\n",
       "      <td>2021</td>\n",
       "      <td>2</td>\n",
       "      <td>28</td>\n",
       "      <td>80.5</td>\n",
       "    </tr>\n",
       "  </tbody>\n",
       "</table>\n",
       "<p>321 rows × 21 columns</p>\n",
       "</div>"
      ],
      "text/plain": [
       "         horse waku umaban sex age weight  jockey horse_weight  \\\n",
       "0       ヒシイグアス    5      9   0   5     54   松山 弘平          496   \n",
       "1     ココロノトウダイ    2      3   0   4     53   丸山 元気          528   \n",
       "2     ウインイクシード    8     16   0   7     56   戸崎 圭太          498   \n",
       "3        ロザムール    6     12   1   5     52   北村 宏司          502   \n",
       "4       アールスター    5     10   0   6     56   長岡 禎仁          508   \n",
       "..         ...  ...    ...  ..  ..    ...     ...          ...   \n",
       "316    ブラックムーン    8     15   0   9     56  藤井 勘一郎          502   \n",
       "317  メイショウキョウジ    8     16   0   6     56    酒井 学          484   \n",
       "318        カツジ    2      3   0   6     57     武 豊          504   \n",
       "319    ベストアクター    8     17  -1   7     56   団野 大成          456   \n",
       "320       トライン    7     14   0   6     56   池添 謙一          470   \n",
       "\n",
       "    horse_weight_diff trainer  ... distance course direction start_h start_m  \\\n",
       "0                   2    堀 宣行  ...     2000      芝         右      15      35   \n",
       "1                  10   手塚 貴久  ...     2000      芝         右      15      35   \n",
       "2                   0   鈴木 伸尋  ...     2000      芝         右      15      35   \n",
       "3                   8   上原 博之  ...     2000      芝         右      15      35   \n",
       "4                   4   杉山 晴紀  ...     2000      芝         右      15      35   \n",
       "..                ...     ...  ...      ...    ...       ...     ...     ...   \n",
       "316                -4   西浦 勝一  ...     1400      芝         右      15      35   \n",
       "317                 2   藤岡 健一  ...     1400      芝         右      15      35   \n",
       "318                 4   池添 兼雄  ...     1400      芝         右      15      35   \n",
       "319                 8   鹿戸 雄一  ...     1400      芝         右      15      35   \n",
       "320                10  浜田 多実雄  ...     1400      芝         右      15      35   \n",
       "\n",
       "    weather  year month day   time  \n",
       "0         曇  2021     1   5  120.9  \n",
       "1         曇  2021     1   5  120.9  \n",
       "2         曇  2021     1   5  121.2  \n",
       "3         曇  2021     1   5  121.4  \n",
       "4         曇  2021     1   5  121.4  \n",
       "..      ...   ...   ...  ..    ...  \n",
       "316       晴  2021     2  28   80.2  \n",
       "317       晴  2021     2  28   80.3  \n",
       "318       晴  2021     2  28   80.3  \n",
       "319       晴  2021     2  28   80.4  \n",
       "320       晴  2021     2  28   80.5  \n",
       "\n",
       "[321 rows x 21 columns]"
      ]
     },
     "execution_count": 3,
     "metadata": {},
     "output_type": "execute_result"
    }
   ],
   "source": [
    "df"
   ]
  },
  {
   "cell_type": "code",
   "execution_count": 5,
   "metadata": {},
   "outputs": [
    {
     "name": "stdout",
     "output_type": "stream",
     "text": [
      "<class 'pandas.core.frame.DataFrame'>\n",
      "RangeIndex: 321 entries, 0 to 320\n",
      "Data columns (total 21 columns):\n",
      " #   Column             Non-Null Count  Dtype \n",
      "---  ------             --------------  ----- \n",
      " 0   horse              321 non-null    object\n",
      " 1   waku               321 non-null    object\n",
      " 2   umaban             321 non-null    object\n",
      " 3   sex                321 non-null    object\n",
      " 4   age                321 non-null    object\n",
      " 5   weight             321 non-null    object\n",
      " 6   jockey             321 non-null    object\n",
      " 7   horse_weight       321 non-null    object\n",
      " 8   horse_weight_diff  321 non-null    object\n",
      " 9   trainer            321 non-null    object\n",
      " 10  pop                321 non-null    object\n",
      " 11  distance           321 non-null    object\n",
      " 12  course             321 non-null    object\n",
      " 13  direction          321 non-null    object\n",
      " 14  start_h            321 non-null    object\n",
      " 15  start_m            321 non-null    object\n",
      " 16  weather            321 non-null    object\n",
      " 17  year               321 non-null    object\n",
      " 18  month              321 non-null    object\n",
      " 19  day                321 non-null    object\n",
      " 20  time               321 non-null    object\n",
      "dtypes: object(21)\n",
      "memory usage: 52.8+ KB\n"
     ]
    }
   ],
   "source": [
    "df.info()"
   ]
  },
  {
   "cell_type": "code",
   "execution_count": 7,
   "metadata": {},
   "outputs": [
    {
     "ename": "ValueError",
     "evalue": "Location based indexing can only have [integer, integer slice (START point is INCLUDED, END point is EXCLUDED), listlike of integers, boolean array] types",
     "output_type": "error",
     "traceback": [
      "\u001b[0;31m---------------------------------------------------------------------------\u001b[0m",
      "\u001b[0;31mValueError\u001b[0m                                Traceback (most recent call last)",
      "\u001b[0;32m~/.pyenv/versions/anaconda3-2020.07/lib/python3.8/site-packages/pandas/core/indexing.py\u001b[0m in \u001b[0;36m_has_valid_tuple\u001b[0;34m(self, key)\u001b[0m\n\u001b[1;32m    702\u001b[0m             \u001b[0;32mtry\u001b[0m\u001b[0;34m:\u001b[0m\u001b[0;34m\u001b[0m\u001b[0;34m\u001b[0m\u001b[0m\n\u001b[0;32m--> 703\u001b[0;31m                 \u001b[0mself\u001b[0m\u001b[0;34m.\u001b[0m\u001b[0m_validate_key\u001b[0m\u001b[0;34m(\u001b[0m\u001b[0mk\u001b[0m\u001b[0;34m,\u001b[0m \u001b[0mi\u001b[0m\u001b[0;34m)\u001b[0m\u001b[0;34m\u001b[0m\u001b[0;34m\u001b[0m\u001b[0m\n\u001b[0m\u001b[1;32m    704\u001b[0m             \u001b[0;32mexcept\u001b[0m \u001b[0mValueError\u001b[0m\u001b[0;34m:\u001b[0m\u001b[0;34m\u001b[0m\u001b[0;34m\u001b[0m\u001b[0m\n",
      "\u001b[0;32m~/.pyenv/versions/anaconda3-2020.07/lib/python3.8/site-packages/pandas/core/indexing.py\u001b[0m in \u001b[0;36m_validate_key\u001b[0;34m(self, key, axis)\u001b[0m\n\u001b[1;32m   2010\u001b[0m         \u001b[0;32melse\u001b[0m\u001b[0;34m:\u001b[0m\u001b[0;34m\u001b[0m\u001b[0;34m\u001b[0m\u001b[0m\n\u001b[0;32m-> 2011\u001b[0;31m             \u001b[0;32mraise\u001b[0m \u001b[0mValueError\u001b[0m\u001b[0;34m(\u001b[0m\u001b[0;34mf\"Can only index by location with a [{self._valid_types}]\"\u001b[0m\u001b[0;34m)\u001b[0m\u001b[0;34m\u001b[0m\u001b[0;34m\u001b[0m\u001b[0m\n\u001b[0m\u001b[1;32m   2012\u001b[0m \u001b[0;34m\u001b[0m\u001b[0m\n",
      "\u001b[0;31mValueError\u001b[0m: Can only index by location with a [integer, integer slice (START point is INCLUDED, END point is EXCLUDED), listlike of integers, boolean array]",
      "\nDuring handling of the above exception, another exception occurred:\n",
      "\u001b[0;31mValueError\u001b[0m                                Traceback (most recent call last)",
      "\u001b[0;32m<ipython-input-7-ae22b6546f39>\u001b[0m in \u001b[0;36m<module>\u001b[0;34m\u001b[0m\n\u001b[0;32m----> 1\u001b[0;31m \u001b[0mdf\u001b[0m\u001b[0;34m.\u001b[0m\u001b[0miloc\u001b[0m\u001b[0;34m[\u001b[0m\u001b[0;36m0\u001b[0m\u001b[0;34m,\u001b[0m \u001b[0;34m'weights'\u001b[0m\u001b[0;34m]\u001b[0m\u001b[0;34m\u001b[0m\u001b[0;34m\u001b[0m\u001b[0m\n\u001b[0m",
      "\u001b[0;32m~/.pyenv/versions/anaconda3-2020.07/lib/python3.8/site-packages/pandas/core/indexing.py\u001b[0m in \u001b[0;36m__getitem__\u001b[0;34m(self, key)\u001b[0m\n\u001b[1;32m   1760\u001b[0m                 \u001b[0;32mexcept\u001b[0m \u001b[0;34m(\u001b[0m\u001b[0mKeyError\u001b[0m\u001b[0;34m,\u001b[0m \u001b[0mIndexError\u001b[0m\u001b[0;34m,\u001b[0m \u001b[0mAttributeError\u001b[0m\u001b[0;34m)\u001b[0m\u001b[0;34m:\u001b[0m\u001b[0;34m\u001b[0m\u001b[0;34m\u001b[0m\u001b[0m\n\u001b[1;32m   1761\u001b[0m                     \u001b[0;32mpass\u001b[0m\u001b[0;34m\u001b[0m\u001b[0;34m\u001b[0m\u001b[0m\n\u001b[0;32m-> 1762\u001b[0;31m             \u001b[0;32mreturn\u001b[0m \u001b[0mself\u001b[0m\u001b[0;34m.\u001b[0m\u001b[0m_getitem_tuple\u001b[0m\u001b[0;34m(\u001b[0m\u001b[0mkey\u001b[0m\u001b[0;34m)\u001b[0m\u001b[0;34m\u001b[0m\u001b[0;34m\u001b[0m\u001b[0m\n\u001b[0m\u001b[1;32m   1763\u001b[0m         \u001b[0;32melse\u001b[0m\u001b[0;34m:\u001b[0m\u001b[0;34m\u001b[0m\u001b[0;34m\u001b[0m\u001b[0m\n\u001b[1;32m   1764\u001b[0m             \u001b[0;31m# we by definition only have the 0th axis\u001b[0m\u001b[0;34m\u001b[0m\u001b[0;34m\u001b[0m\u001b[0;34m\u001b[0m\u001b[0m\n",
      "\u001b[0;32m~/.pyenv/versions/anaconda3-2020.07/lib/python3.8/site-packages/pandas/core/indexing.py\u001b[0m in \u001b[0;36m_getitem_tuple\u001b[0;34m(self, tup)\u001b[0m\n\u001b[1;32m   2065\u001b[0m     \u001b[0;32mdef\u001b[0m \u001b[0m_getitem_tuple\u001b[0m\u001b[0;34m(\u001b[0m\u001b[0mself\u001b[0m\u001b[0;34m,\u001b[0m \u001b[0mtup\u001b[0m\u001b[0;34m:\u001b[0m \u001b[0mTuple\u001b[0m\u001b[0;34m)\u001b[0m\u001b[0;34m:\u001b[0m\u001b[0;34m\u001b[0m\u001b[0;34m\u001b[0m\u001b[0m\n\u001b[1;32m   2066\u001b[0m \u001b[0;34m\u001b[0m\u001b[0m\n\u001b[0;32m-> 2067\u001b[0;31m         \u001b[0mself\u001b[0m\u001b[0;34m.\u001b[0m\u001b[0m_has_valid_tuple\u001b[0m\u001b[0;34m(\u001b[0m\u001b[0mtup\u001b[0m\u001b[0;34m)\u001b[0m\u001b[0;34m\u001b[0m\u001b[0;34m\u001b[0m\u001b[0m\n\u001b[0m\u001b[1;32m   2068\u001b[0m         \u001b[0;32mtry\u001b[0m\u001b[0;34m:\u001b[0m\u001b[0;34m\u001b[0m\u001b[0;34m\u001b[0m\u001b[0m\n\u001b[1;32m   2069\u001b[0m             \u001b[0;32mreturn\u001b[0m \u001b[0mself\u001b[0m\u001b[0;34m.\u001b[0m\u001b[0m_getitem_lowerdim\u001b[0m\u001b[0;34m(\u001b[0m\u001b[0mtup\u001b[0m\u001b[0;34m)\u001b[0m\u001b[0;34m\u001b[0m\u001b[0;34m\u001b[0m\u001b[0m\n",
      "\u001b[0;32m~/.pyenv/versions/anaconda3-2020.07/lib/python3.8/site-packages/pandas/core/indexing.py\u001b[0m in \u001b[0;36m_has_valid_tuple\u001b[0;34m(self, key)\u001b[0m\n\u001b[1;32m    703\u001b[0m                 \u001b[0mself\u001b[0m\u001b[0;34m.\u001b[0m\u001b[0m_validate_key\u001b[0m\u001b[0;34m(\u001b[0m\u001b[0mk\u001b[0m\u001b[0;34m,\u001b[0m \u001b[0mi\u001b[0m\u001b[0;34m)\u001b[0m\u001b[0;34m\u001b[0m\u001b[0;34m\u001b[0m\u001b[0m\n\u001b[1;32m    704\u001b[0m             \u001b[0;32mexcept\u001b[0m \u001b[0mValueError\u001b[0m\u001b[0;34m:\u001b[0m\u001b[0;34m\u001b[0m\u001b[0;34m\u001b[0m\u001b[0m\n\u001b[0;32m--> 705\u001b[0;31m                 raise ValueError(\n\u001b[0m\u001b[1;32m    706\u001b[0m                     \u001b[0;34m\"Location based indexing can only have \"\u001b[0m\u001b[0;34m\u001b[0m\u001b[0;34m\u001b[0m\u001b[0m\n\u001b[1;32m    707\u001b[0m                     \u001b[0;34mf\"[{self._valid_types}] types\"\u001b[0m\u001b[0;34m\u001b[0m\u001b[0;34m\u001b[0m\u001b[0m\n",
      "\u001b[0;31mValueError\u001b[0m: Location based indexing can only have [integer, integer slice (START point is INCLUDED, END point is EXCLUDED), listlike of integers, boolean array] types"
     ]
    }
   ],
   "source": [
    "df.iloc[0, 'weights']"
   ]
  },
  {
   "cell_type": "code",
   "execution_count": 19,
   "metadata": {},
   "outputs": [],
   "source": [
    "r = requests.get('https://jra.jp/datafile/seiseki/replay/2021/jyusyo.html')\n",
    "soup = BeautifulSoup(r.content, 'html.parser')\n",
    "urls_pre = soup.find_all('td', class_='result')"
   ]
  },
  {
   "cell_type": "code",
   "execution_count": 13,
   "metadata": {},
   "outputs": [
    {
     "data": {
      "text/plain": [
       "[<td class=\"result\"><a class=\"btn-def btn-xs\" href=\"/datafile/seiseki/replay/2020/001.html\"><i aria-hidden=\"true\" class=\"fa fa-chevron-circle-right\"></i>レース結果</a></td>,\n",
       " <td class=\"result\"><a class=\"btn-def btn-xs\" href=\"/datafile/seiseki/replay/2020/002.html\"><i aria-hidden=\"true\" class=\"fa fa-chevron-circle-right\"></i>レース結果</a></td>,\n",
       " <td class=\"result\"><a class=\"btn-def btn-xs\" href=\"/datafile/seiseki/replay/2020/003.html\"><i aria-hidden=\"true\" class=\"fa fa-chevron-circle-right\"></i>レース結果</a></td>,\n",
       " <td class=\"result\"><a class=\"btn-def btn-xs\" href=\"/datafile/seiseki/replay/2020/004.html\"><i aria-hidden=\"true\" class=\"fa fa-chevron-circle-right\"></i>レース結果</a></td>,\n",
       " <td class=\"result\"><a class=\"btn-def btn-xs\" href=\"/datafile/seiseki/replay/2020/005.html\"><i aria-hidden=\"true\" class=\"fa fa-chevron-circle-right\"></i>レース結果</a></td>,\n",
       " <td class=\"result\"><a class=\"btn-def btn-xs\" href=\"/datafile/seiseki/replay/2020/006.html\"><i aria-hidden=\"true\" class=\"fa fa-chevron-circle-right\"></i>レース結果</a></td>,\n",
       " <td class=\"result\"><a class=\"btn-def btn-xs\" href=\"/datafile/seiseki/replay/2020/007.html\"><i aria-hidden=\"true\" class=\"fa fa-chevron-circle-right\"></i>レース結果</a></td>,\n",
       " <td class=\"result\"><a class=\"btn-def btn-xs\" href=\"/datafile/seiseki/replay/2020/008.html\"><i aria-hidden=\"true\" class=\"fa fa-chevron-circle-right\"></i>レース結果</a></td>,\n",
       " <td class=\"result\"><a class=\"btn-def btn-xs\" href=\"/datafile/seiseki/replay/2020/009.html\"><i aria-hidden=\"true\" class=\"fa fa-chevron-circle-right\"></i>レース結果</a></td>,\n",
       " <td class=\"result\"><a class=\"btn-def btn-xs\" href=\"/datafile/seiseki/replay/2020/010.html\"><i aria-hidden=\"true\" class=\"fa fa-chevron-circle-right\"></i>レース結果</a></td>,\n",
       " <td class=\"result\"><a class=\"btn-def btn-xs\" href=\"/datafile/seiseki/replay/2020/011.html\"><i aria-hidden=\"true\" class=\"fa fa-chevron-circle-right\"></i>レース結果</a></td>,\n",
       " <td class=\"result\"><a class=\"btn-def btn-xs\" href=\"/datafile/seiseki/replay/2020/012.html\"><i aria-hidden=\"true\" class=\"fa fa-chevron-circle-right\"></i>レース結果</a></td>,\n",
       " <td class=\"result\"><a class=\"btn-def btn-xs\" href=\"/datafile/seiseki/replay/2020/013.html\"><i aria-hidden=\"true\" class=\"fa fa-chevron-circle-right\"></i>レース結果</a></td>,\n",
       " <td class=\"result\"><a class=\"btn-def btn-xs\" href=\"/datafile/seiseki/replay/2020/014.html\"><i aria-hidden=\"true\" class=\"fa fa-chevron-circle-right\"></i>レース結果</a></td>,\n",
       " <td class=\"result\"><a class=\"btn-def btn-xs\" href=\"/datafile/seiseki/replay/2020/015.html\"><i aria-hidden=\"true\" class=\"fa fa-chevron-circle-right\"></i>レース結果</a></td>,\n",
       " <td class=\"result\"><a class=\"btn-def btn-xs\" href=\"/datafile/seiseki/replay/2020/016.html\"><i aria-hidden=\"true\" class=\"fa fa-chevron-circle-right\"></i>レース結果</a></td>,\n",
       " <td class=\"result\"><a class=\"btn-def btn-xs\" href=\"/datafile/seiseki/replay/2020/017.html\"><i aria-hidden=\"true\" class=\"fa fa-chevron-circle-right\"></i>レース結果</a></td>,\n",
       " <td class=\"result\"><a class=\"btn-def btn-xs\" href=\"/datafile/seiseki/replay/2020/018.html\"><i aria-hidden=\"true\" class=\"fa fa-chevron-circle-right\"></i>レース結果</a></td>,\n",
       " <td class=\"result\"><a class=\"btn-def btn-xs\" href=\"/datafile/seiseki/g1/feb/result/feb2020.html\"><i aria-hidden=\"true\" class=\"fa fa-chevron-circle-right\"></i>レース結果</a></td>,\n",
       " <td class=\"result\"><a class=\"btn-def btn-xs\" href=\"/datafile/seiseki/replay/2020/019.html\"><i aria-hidden=\"true\" class=\"fa fa-chevron-circle-right\"></i>レース結果</a></td>,\n",
       " <td class=\"result\"><a class=\"btn-def btn-xs\" href=\"/datafile/seiseki/replay/2020/020.html\"><i aria-hidden=\"true\" class=\"fa fa-chevron-circle-right\"></i>レース結果</a></td>,\n",
       " <td class=\"result\"><a class=\"btn-def btn-xs\" href=\"/datafile/seiseki/replay/2020/021.html\"><i aria-hidden=\"true\" class=\"fa fa-chevron-circle-right\"></i>レース結果</a></td>,\n",
       " <td class=\"result\"><a class=\"btn-def btn-xs\" href=\"/datafile/seiseki/replay/2020/022.html\"><i aria-hidden=\"true\" class=\"fa fa-chevron-circle-right\"></i>レース結果</a></td>,\n",
       " <td class=\"result\"><a class=\"btn-def btn-xs\" href=\"/datafile/seiseki/replay/2020/023.html\"><i aria-hidden=\"true\" class=\"fa fa-chevron-circle-right\"></i>レース結果</a></td>,\n",
       " <td class=\"result\"><a class=\"btn-def btn-xs\" href=\"/datafile/seiseki/replay/2020/024.html\"><i aria-hidden=\"true\" class=\"fa fa-chevron-circle-right\"></i>レース結果</a></td>,\n",
       " <td class=\"result\"><a class=\"btn-def btn-xs\" href=\"/datafile/seiseki/replay/2020/025.html\"><i aria-hidden=\"true\" class=\"fa fa-chevron-circle-right\"></i>レース結果</a></td>,\n",
       " <td class=\"result\"><a class=\"btn-def btn-xs\" href=\"/datafile/seiseki/replay/2020/026.html\"><i aria-hidden=\"true\" class=\"fa fa-chevron-circle-right\"></i>レース結果</a></td>,\n",
       " <td class=\"result\"><a class=\"btn-def btn-xs\" href=\"/datafile/seiseki/replay/2020/027.html\"><i aria-hidden=\"true\" class=\"fa fa-chevron-circle-right\"></i>レース結果</a></td>,\n",
       " <td class=\"result\"><a class=\"btn-def btn-xs\" href=\"/datafile/seiseki/replay/2020/028.html\"><i aria-hidden=\"true\" class=\"fa fa-chevron-circle-right\"></i>レース結果</a></td>,\n",
       " <td class=\"result\"><a class=\"btn-def btn-xs\" href=\"/datafile/seiseki/replay/2020/029.html\"><i aria-hidden=\"true\" class=\"fa fa-chevron-circle-right\"></i>レース結果</a></td>,\n",
       " <td class=\"result\"><a class=\"btn-def btn-xs\" href=\"/datafile/seiseki/replay/2020/030.html\"><i aria-hidden=\"true\" class=\"fa fa-chevron-circle-right\"></i>レース結果</a></td>,\n",
       " <td class=\"result\"><a class=\"btn-def btn-xs\" href=\"/datafile/seiseki/replay/2020/031.html\"><i aria-hidden=\"true\" class=\"fa fa-chevron-circle-right\"></i>レース結果</a></td>,\n",
       " <td class=\"result\"><a class=\"btn-def btn-xs\" href=\"/datafile/seiseki/replay/2020/032.html\"><i aria-hidden=\"true\" class=\"fa fa-chevron-circle-right\"></i>レース結果</a></td>,\n",
       " <td class=\"result\"><a class=\"btn-def btn-xs\" href=\"/datafile/seiseki/replay/2020/033.html\"><i aria-hidden=\"true\" class=\"fa fa-chevron-circle-right\"></i>レース結果</a></td>,\n",
       " <td class=\"result\"><a class=\"btn-def btn-xs\" href=\"/datafile/seiseki/replay/2020/034.html\"><i aria-hidden=\"true\" class=\"fa fa-chevron-circle-right\"></i>レース結果</a></td>,\n",
       " <td class=\"result\"><a class=\"btn-def btn-xs\" href=\"/datafile/seiseki/g1/takamatsu/result/takamatsu2020.html\"><i aria-hidden=\"true\" class=\"fa fa-chevron-circle-right\"></i>レース結果</a></td>,\n",
       " <td class=\"result\"><a class=\"btn-def btn-xs\" href=\"/datafile/seiseki/replay/2020/035.html\"><i aria-hidden=\"true\" class=\"fa fa-chevron-circle-right\"></i>レース結果</a></td>,\n",
       " <td class=\"result\"><a class=\"btn-def btn-xs\" href=\"/datafile/seiseki/replay/2020/036.html\"><i aria-hidden=\"true\" class=\"fa fa-chevron-circle-right\"></i>レース結果</a></td>,\n",
       " <td class=\"result\"><a class=\"btn-def btn-xs\" href=\"/datafile/seiseki/g1/osaka/result/osaka2020.html\"><i aria-hidden=\"true\" class=\"fa fa-chevron-circle-right\"></i>レース結果</a></td>,\n",
       " <td class=\"result\"><a class=\"btn-def btn-xs\" href=\"/datafile/seiseki/replay/2020/037.html\"><i aria-hidden=\"true\" class=\"fa fa-chevron-circle-right\"></i>レース結果</a></td>,\n",
       " <td class=\"result\"><a class=\"btn-def btn-xs\" href=\"/datafile/seiseki/replay/2020/038.html\"><i aria-hidden=\"true\" class=\"fa fa-chevron-circle-right\"></i>レース結果</a></td>,\n",
       " <td class=\"result\"><a class=\"btn-def btn-xs\" href=\"/datafile/seiseki/g1/ouka/result/ouka2020.html\"><i aria-hidden=\"true\" class=\"fa fa-chevron-circle-right\"></i>レース結果</a></td>,\n",
       " <td class=\"result\"><a class=\"btn-def btn-xs\" href=\"/datafile/seiseki/g1/ngj/result/ngj2020.html\"><i aria-hidden=\"true\" class=\"fa fa-chevron-circle-right\"></i>レース結果</a></td>,\n",
       " <td class=\"result\"><a class=\"btn-def btn-xs\" href=\"/datafile/seiseki/replay/2020/039.html\"><i aria-hidden=\"true\" class=\"fa fa-chevron-circle-right\"></i>レース結果</a></td>,\n",
       " <td class=\"result\"><a class=\"btn-def btn-xs\" href=\"/datafile/seiseki/g1/satsuki/result/satsuki2020.html\"><i aria-hidden=\"true\" class=\"fa fa-chevron-circle-right\"></i>レース結果</a></td>,\n",
       " <td class=\"result\"><a class=\"btn-def btn-xs\" href=\"/datafile/seiseki/replay/2020/040.html\"><i aria-hidden=\"true\" class=\"fa fa-chevron-circle-right\"></i>レース結果</a></td>,\n",
       " <td class=\"result\"><a class=\"btn-def btn-xs\" href=\"/datafile/seiseki/replay/2020/041.html\"><i aria-hidden=\"true\" class=\"fa fa-chevron-circle-right\"></i>レース結果</a></td>,\n",
       " <td class=\"result\"><a class=\"btn-def btn-xs\" href=\"/datafile/seiseki/replay/2020/042.html\"><i aria-hidden=\"true\" class=\"fa fa-chevron-circle-right\"></i>レース結果</a></td>,\n",
       " <td class=\"result\"><a class=\"btn-def btn-xs\" href=\"/datafile/seiseki/replay/2020/043.html\"><i aria-hidden=\"true\" class=\"fa fa-chevron-circle-right\"></i>レース結果</a></td>,\n",
       " <td class=\"result\"><a class=\"btn-def btn-xs\" href=\"/datafile/seiseki/replay/2020/044.html\"><i aria-hidden=\"true\" class=\"fa fa-chevron-circle-right\"></i>レース結果</a></td>,\n",
       " <td class=\"result\"><a class=\"btn-def btn-xs\" href=\"/datafile/seiseki/g1/haruten/result/haruten2020.html\"><i aria-hidden=\"true\" class=\"fa fa-chevron-circle-right\"></i>レース結果</a></td>,\n",
       " <td class=\"result\"><a class=\"btn-def btn-xs\" href=\"/datafile/seiseki/replay/2020/045.html\"><i aria-hidden=\"true\" class=\"fa fa-chevron-circle-right\"></i>レース結果</a></td>,\n",
       " <td class=\"result\"><a class=\"btn-def btn-xs\" href=\"/datafile/seiseki/g1/nmc/result/nmc2020.html\"><i aria-hidden=\"true\" class=\"fa fa-chevron-circle-right\"></i>レース結果</a></td>,\n",
       " <td class=\"result\"><a class=\"btn-def btn-xs\" href=\"/datafile/seiseki/replay/2020/046.html\"><i aria-hidden=\"true\" class=\"fa fa-chevron-circle-right\"></i>レース結果</a></td>,\n",
       " <td class=\"result\"><a class=\"btn-def btn-xs\" href=\"/datafile/seiseki/replay/2020/047.html\"><i aria-hidden=\"true\" class=\"fa fa-chevron-circle-right\"></i>レース結果</a></td>,\n",
       " <td class=\"result\"><a class=\"btn-def btn-xs\" href=\"/datafile/seiseki/replay/2020/048.html\"><i aria-hidden=\"true\" class=\"fa fa-chevron-circle-right\"></i>レース結果</a></td>,\n",
       " <td class=\"result\"><a class=\"btn-def btn-xs\" href=\"/datafile/seiseki/g1/victoria/result/victoria2020.html\"><i aria-hidden=\"true\" class=\"fa fa-chevron-circle-right\"></i>レース結果</a></td>,\n",
       " <td class=\"result\"><a class=\"btn-def btn-xs\" href=\"/datafile/seiseki/replay/2020/049.html\"><i aria-hidden=\"true\" class=\"fa fa-chevron-circle-right\"></i>レース結果</a></td>,\n",
       " <td class=\"result\"><a class=\"btn-def btn-xs\" href=\"/datafile/seiseki/g1/oaks/result/oaks2020.html\"><i aria-hidden=\"true\" class=\"fa fa-chevron-circle-right\"></i>レース結果</a></td>,\n",
       " <td class=\"result\"><a class=\"btn-def btn-xs\" href=\"/datafile/seiseki/replay/2020/050.html\"><i aria-hidden=\"true\" class=\"fa fa-chevron-circle-right\"></i>レース結果</a></td>,\n",
       " <td class=\"result\"><a class=\"btn-def btn-xs\" href=\"/datafile/seiseki/g1/derby/result/derby2020.html\"><i aria-hidden=\"true\" class=\"fa fa-chevron-circle-right\"></i>レース結果</a></td>,\n",
       " <td class=\"result\"><a class=\"btn-def btn-xs\" href=\"/datafile/seiseki/replay/2020/051.html\"><i aria-hidden=\"true\" class=\"fa fa-chevron-circle-right\"></i>レース結果</a></td>,\n",
       " <td class=\"result\"><a class=\"btn-def btn-xs\" href=\"/datafile/seiseki/replay/2020/052.html\"><i aria-hidden=\"true\" class=\"fa fa-chevron-circle-right\"></i>レース結果</a></td>,\n",
       " <td class=\"result\"><a class=\"btn-def btn-xs\" href=\"/datafile/seiseki/g1/yasuda/result/yasuda2020.html\"><i aria-hidden=\"true\" class=\"fa fa-chevron-circle-right\"></i>レース結果</a></td>,\n",
       " <td class=\"result\"><a class=\"btn-def btn-xs\" href=\"/datafile/seiseki/replay/2020/053.html\"><i aria-hidden=\"true\" class=\"fa fa-chevron-circle-right\"></i>レース結果</a></td>,\n",
       " <td class=\"result\"><a class=\"btn-def btn-xs\" href=\"/datafile/seiseki/replay/2020/054.html\"><i aria-hidden=\"true\" class=\"fa fa-chevron-circle-right\"></i>レース結果</a></td>,\n",
       " <td class=\"result\"><a class=\"btn-def btn-xs\" href=\"/datafile/seiseki/replay/2020/055.html\"><i aria-hidden=\"true\" class=\"fa fa-chevron-circle-right\"></i>レース結果</a></td>,\n",
       " <td class=\"result\"><a class=\"btn-def btn-xs\" href=\"/datafile/seiseki/replay/2020/056.html\"><i aria-hidden=\"true\" class=\"fa fa-chevron-circle-right\"></i>レース結果</a></td>,\n",
       " <td class=\"result\"><a class=\"btn-def btn-xs\" href=\"/datafile/seiseki/replay/2020/057.html\"><i aria-hidden=\"true\" class=\"fa fa-chevron-circle-right\"></i>レース結果</a></td>,\n",
       " <td class=\"result\"><a class=\"btn-def btn-xs\" href=\"/datafile/seiseki/g1/takara/result/takara2020.html\"><i aria-hidden=\"true\" class=\"fa fa-chevron-circle-right\"></i>レース結果</a></td>,\n",
       " <td class=\"result\"><a class=\"btn-def btn-xs\" href=\"/datafile/seiseki/replay/2020/058.html\"><i aria-hidden=\"true\" class=\"fa fa-chevron-circle-right\"></i>レース結果</a></td>,\n",
       " <td class=\"result\"><a class=\"btn-def btn-xs\" href=\"/datafile/seiseki/replay/2020/059.html\"><i aria-hidden=\"true\" class=\"fa fa-chevron-circle-right\"></i>レース結果</a></td>,\n",
       " <td class=\"result\"><a class=\"btn-def btn-xs\" href=\"/datafile/seiseki/replay/2020/060.html\"><i aria-hidden=\"true\" class=\"fa fa-chevron-circle-right\"></i>レース結果</a></td>,\n",
       " <td class=\"result\"><a class=\"btn-def btn-xs\" href=\"/datafile/seiseki/replay/2020/061.html\"><i aria-hidden=\"true\" class=\"fa fa-chevron-circle-right\"></i>レース結果</a></td>,\n",
       " <td class=\"result\"><a class=\"btn-def btn-xs\" href=\"/datafile/seiseki/replay/2020/062.html\"><i aria-hidden=\"true\" class=\"fa fa-chevron-circle-right\"></i>レース結果</a></td>,\n",
       " <td class=\"result\"><a class=\"btn-def btn-xs\" href=\"/datafile/seiseki/replay/2020/063.html\"><i aria-hidden=\"true\" class=\"fa fa-chevron-circle-right\"></i>レース結果</a></td>,\n",
       " <td class=\"result\"><a class=\"btn-def btn-xs\" href=\"/datafile/seiseki/replay/2020/064.html\"><i aria-hidden=\"true\" class=\"fa fa-chevron-circle-right\"></i>レース結果</a></td>,\n",
       " <td class=\"result\"><a class=\"btn-def btn-xs\" href=\"/datafile/seiseki/replay/2020/065.html\"><i aria-hidden=\"true\" class=\"fa fa-chevron-circle-right\"></i>レース結果</a></td>,\n",
       " <td class=\"result\"><a class=\"btn-def btn-xs\" href=\"/datafile/seiseki/replay/2020/066.html\"><i aria-hidden=\"true\" class=\"fa fa-chevron-circle-right\"></i>レース結果</a></td>,\n",
       " <td class=\"result\"><a class=\"btn-def btn-xs\" href=\"/datafile/seiseki/replay/2020/067.html\"><i aria-hidden=\"true\" class=\"fa fa-chevron-circle-right\"></i>レース結果</a></td>,\n",
       " <td class=\"result\"><a class=\"btn-def btn-xs\" href=\"/datafile/seiseki/replay/2020/068.html\"><i aria-hidden=\"true\" class=\"fa fa-chevron-circle-right\"></i>レース結果</a></td>,\n",
       " <td class=\"result\"><a class=\"btn-def btn-xs\" href=\"/datafile/seiseki/replay/2020/069.html\"><i aria-hidden=\"true\" class=\"fa fa-chevron-circle-right\"></i>レース結果</a></td>,\n",
       " <td class=\"result\"><a class=\"btn-def btn-xs\" href=\"/datafile/seiseki/replay/2020/070.html\"><i aria-hidden=\"true\" class=\"fa fa-chevron-circle-right\"></i>レース結果</a></td>,\n",
       " <td class=\"result\"><a class=\"btn-def btn-xs\" href=\"/datafile/seiseki/replay/2020/071.html\"><i aria-hidden=\"true\" class=\"fa fa-chevron-circle-right\"></i>レース結果</a></td>,\n",
       " <td class=\"result\"><a class=\"btn-def btn-xs\" href=\"/datafile/seiseki/replay/2020/072.html\"><i aria-hidden=\"true\" class=\"fa fa-chevron-circle-right\"></i>レース結果</a></td>,\n",
       " <td class=\"result\"><a class=\"btn-def btn-xs\" href=\"/datafile/seiseki/replay/2020/073.html\"><i aria-hidden=\"true\" class=\"fa fa-chevron-circle-right\"></i>レース結果</a></td>,\n",
       " <td class=\"result\"><a class=\"btn-def btn-xs\" href=\"/datafile/seiseki/replay/2020/074.html\"><i aria-hidden=\"true\" class=\"fa fa-chevron-circle-right\"></i>レース結果</a></td>,\n",
       " <td class=\"result\"><a class=\"btn-def btn-xs\" href=\"/datafile/seiseki/replay/2020/075.html\"><i aria-hidden=\"true\" class=\"fa fa-chevron-circle-right\"></i>レース結果</a></td>,\n",
       " <td class=\"result\"><a class=\"btn-def btn-xs\" href=\"/datafile/seiseki/replay/2020/076.html\"><i aria-hidden=\"true\" class=\"fa fa-chevron-circle-right\"></i>レース結果</a></td>,\n",
       " <td class=\"result\"><a class=\"btn-def btn-xs\" href=\"/datafile/seiseki/replay/2020/077.html\"><i aria-hidden=\"true\" class=\"fa fa-chevron-circle-right\"></i>レース結果</a></td>,\n",
       " <td class=\"result\"><a class=\"btn-def btn-xs\" href=\"/datafile/seiseki/replay/2020/078.html\"><i aria-hidden=\"true\" class=\"fa fa-chevron-circle-right\"></i>レース結果</a></td>,\n",
       " <td class=\"result\"><a class=\"btn-def btn-xs\" href=\"/datafile/seiseki/replay/2020/079.html\"><i aria-hidden=\"true\" class=\"fa fa-chevron-circle-right\"></i>レース結果</a></td>,\n",
       " <td class=\"result\"><a class=\"btn-def btn-xs\" href=\"/datafile/seiseki/replay/2020/080.html\"><i aria-hidden=\"true\" class=\"fa fa-chevron-circle-right\"></i>レース結果</a></td>,\n",
       " <td class=\"result\"><a class=\"btn-def btn-xs\" href=\"/datafile/seiseki/replay/2020/081.html\"><i aria-hidden=\"true\" class=\"fa fa-chevron-circle-right\"></i>レース結果</a></td>,\n",
       " <td class=\"result\"><a class=\"btn-def btn-xs\" href=\"/datafile/seiseki/replay/2020/082.html\"><i aria-hidden=\"true\" class=\"fa fa-chevron-circle-right\"></i>レース結果</a></td>,\n",
       " <td class=\"result\"><a class=\"btn-def btn-xs\" href=\"/datafile/seiseki/replay/2020/083.html\"><i aria-hidden=\"true\" class=\"fa fa-chevron-circle-right\"></i>レース結果</a></td>,\n",
       " <td class=\"result\"><a class=\"btn-def btn-xs\" href=\"/datafile/seiseki/replay/2020/084.html\"><i aria-hidden=\"true\" class=\"fa fa-chevron-circle-right\"></i>レース結果</a></td>,\n",
       " <td class=\"result\"><a class=\"btn-def btn-xs\" href=\"/datafile/seiseki/replay/2020/085.html\"><i aria-hidden=\"true\" class=\"fa fa-chevron-circle-right\"></i>レース結果</a></td>,\n",
       " <td class=\"result\"><a class=\"btn-def btn-xs\" href=\"/datafile/seiseki/replay/2020/086.html\"><i aria-hidden=\"true\" class=\"fa fa-chevron-circle-right\"></i>レース結果</a></td>,\n",
       " <td class=\"result\"><a class=\"btn-def btn-xs\" href=\"/datafile/seiseki/replay/2020/087.html\"><i aria-hidden=\"true\" class=\"fa fa-chevron-circle-right\"></i>レース結果</a></td>,\n",
       " <td class=\"result\"><a class=\"btn-def btn-xs\" href=\"/datafile/seiseki/replay/2020/088.html\"><i aria-hidden=\"true\" class=\"fa fa-chevron-circle-right\"></i>レース結果</a></td>,\n",
       " <td class=\"result\"><a class=\"btn-def btn-xs\" href=\"/datafile/seiseki/g1/sprint/result/sprint2020.html\"><i aria-hidden=\"true\" class=\"fa fa-chevron-circle-right\"></i>レース結果</a></td>,\n",
       " <td class=\"result\"><a class=\"btn-def btn-xs\" href=\"/datafile/seiseki/replay/2020/089.html\"><i aria-hidden=\"true\" class=\"fa fa-chevron-circle-right\"></i>レース結果</a></td>,\n",
       " <td class=\"result\"><a class=\"btn-def btn-xs\" href=\"/datafile/seiseki/replay/2020/090.html\"><i aria-hidden=\"true\" class=\"fa fa-chevron-circle-right\"></i>レース結果</a></td>,\n",
       " <td class=\"result\"><a class=\"btn-def btn-xs\" href=\"/datafile/seiseki/replay/2020/091.html\"><i aria-hidden=\"true\" class=\"fa fa-chevron-circle-right\"></i>レース結果</a></td>,\n",
       " <td class=\"result\"><a class=\"btn-def btn-xs\" href=\"/datafile/seiseki/replay/2020/092.html\"><i aria-hidden=\"true\" class=\"fa fa-chevron-circle-right\"></i>レース結果</a></td>,\n",
       " <td class=\"result\"><a class=\"btn-def btn-xs\" href=\"/datafile/seiseki/replay/2020/093.html\"><i aria-hidden=\"true\" class=\"fa fa-chevron-circle-right\"></i>レース結果</a></td>,\n",
       " <td class=\"result\"><a class=\"btn-def btn-xs\" href=\"/datafile/seiseki/g1/shuka/result/shuka2020.html\"><i aria-hidden=\"true\" class=\"fa fa-chevron-circle-right\"></i>レース結果</a></td>,\n",
       " <td class=\"result\"><a class=\"btn-def btn-xs\" href=\"/datafile/seiseki/replay/2020/094.html\"><i aria-hidden=\"true\" class=\"fa fa-chevron-circle-right\"></i>レース結果</a></td>,\n",
       " <td class=\"result\"><a class=\"btn-def btn-xs\" href=\"/datafile/seiseki/g1/kikka/result/kikka2020.html\"><i aria-hidden=\"true\" class=\"fa fa-chevron-circle-right\"></i>レース結果</a></td>,\n",
       " <td class=\"result\"><a class=\"btn-def btn-xs\" href=\"/datafile/seiseki/replay/2020/095.html\"><i aria-hidden=\"true\" class=\"fa fa-chevron-circle-right\"></i>レース結果</a></td>,\n",
       " <td class=\"result\"><a class=\"btn-def btn-xs\" href=\"/datafile/seiseki/replay/2020/096.html\"><i aria-hidden=\"true\" class=\"fa fa-chevron-circle-right\"></i>レース結果</a></td>,\n",
       " <td class=\"result\"><a class=\"btn-def btn-xs\" href=\"/datafile/seiseki/g1/akiten/result/akiten2020.html\"><i aria-hidden=\"true\" class=\"fa fa-chevron-circle-right\"></i>レース結果</a></td>,\n",
       " <td class=\"result\"><a class=\"btn-def btn-xs\" href=\"/datafile/seiseki/replay/2020/097.html\"><i aria-hidden=\"true\" class=\"fa fa-chevron-circle-right\"></i>レース結果</a></td>,\n",
       " <td class=\"result\"><a class=\"btn-def btn-xs\" href=\"/datafile/seiseki/replay/2020/098.html\"><i aria-hidden=\"true\" class=\"fa fa-chevron-circle-right\"></i>レース結果</a></td>,\n",
       " <td class=\"result\"><a class=\"btn-def btn-xs\" href=\"/datafile/seiseki/replay/2020/099.html\"><i aria-hidden=\"true\" class=\"fa fa-chevron-circle-right\"></i>レース結果</a></td>,\n",
       " <td class=\"result\"><a class=\"btn-def btn-xs\" href=\"/datafile/seiseki/replay/2020/100.html\"><i aria-hidden=\"true\" class=\"fa fa-chevron-circle-right\"></i>レース結果</a></td>,\n",
       " <td class=\"result\"><a class=\"btn-def btn-xs\" href=\"/datafile/seiseki/replay/2020/101.html\"><i aria-hidden=\"true\" class=\"fa fa-chevron-circle-right\"></i>レース結果</a></td>,\n",
       " <td class=\"result\"><a class=\"btn-def btn-xs\" href=\"/datafile/seiseki/replay/2020/102.html\"><i aria-hidden=\"true\" class=\"fa fa-chevron-circle-right\"></i>レース結果</a></td>,\n",
       " <td class=\"result\"><a class=\"btn-def btn-xs\" href=\"/datafile/seiseki/replay/2020/103.html\"><i aria-hidden=\"true\" class=\"fa fa-chevron-circle-right\"></i>レース結果</a></td>,\n",
       " <td class=\"result\"><a class=\"btn-def btn-xs\" href=\"/datafile/seiseki/g1/eliza/result/eliza2020.html\"><i aria-hidden=\"true\" class=\"fa fa-chevron-circle-right\"></i>レース結果</a></td>,\n",
       " <td class=\"result\"><a class=\"btn-def btn-xs\" href=\"/datafile/seiseki/replay/2020/104.html\"><i aria-hidden=\"true\" class=\"fa fa-chevron-circle-right\"></i>レース結果</a></td>,\n",
       " <td class=\"result\"><a class=\"btn-def btn-xs\" href=\"/datafile/seiseki/g1/mile/result/mile2020.html\"><i aria-hidden=\"true\" class=\"fa fa-chevron-circle-right\"></i>レース結果</a></td>,\n",
       " <td class=\"result\"><a class=\"btn-def btn-xs\" href=\"/datafile/seiseki/replay/2020/105.html\"><i aria-hidden=\"true\" class=\"fa fa-chevron-circle-right\"></i>レース結果</a></td>,\n",
       " <td class=\"result\"><a class=\"btn-def btn-xs\" href=\"/datafile/seiseki/replay/2020/106.html\"><i aria-hidden=\"true\" class=\"fa fa-chevron-circle-right\"></i>レース結果</a></td>,\n",
       " <td class=\"result\"><a class=\"btn-def btn-xs\" href=\"/datafile/seiseki/g1/jc/result/jc2020.html\"><i aria-hidden=\"true\" class=\"fa fa-chevron-circle-right\"></i>レース結果</a></td>,\n",
       " <td class=\"result\"><a class=\"btn-def btn-xs\" href=\"/datafile/seiseki/replay/2020/107.html\"><i aria-hidden=\"true\" class=\"fa fa-chevron-circle-right\"></i>レース結果</a></td>,\n",
       " <td class=\"result\"><a class=\"btn-def btn-xs\" href=\"/datafile/seiseki/replay/2020/108.html\"><i aria-hidden=\"true\" class=\"fa fa-chevron-circle-right\"></i>レース結果</a></td>,\n",
       " <td class=\"result\"><a class=\"btn-def btn-xs\" href=\"/datafile/seiseki/replay/2020/109.html\"><i aria-hidden=\"true\" class=\"fa fa-chevron-circle-right\"></i>レース結果</a></td>,\n",
       " <td class=\"result\"><a class=\"btn-def btn-xs\" href=\"/datafile/seiseki/g1/jcd/result/jcd2020.html\"><i aria-hidden=\"true\" class=\"fa fa-chevron-circle-right\"></i>レース結果</a></td>,\n",
       " <td class=\"result\"><a class=\"btn-def btn-xs\" href=\"/datafile/seiseki/replay/2020/110.html\"><i aria-hidden=\"true\" class=\"fa fa-chevron-circle-right\"></i>レース結果</a></td>,\n",
       " <td class=\"result\"><a class=\"btn-def btn-xs\" href=\"/datafile/seiseki/replay/2020/111.html\"><i aria-hidden=\"true\" class=\"fa fa-chevron-circle-right\"></i>レース結果</a></td>,\n",
       " <td class=\"result\"><a class=\"btn-def btn-xs\" href=\"/datafile/seiseki/g1/hjf/result/hjf2020.html\"><i aria-hidden=\"true\" class=\"fa fa-chevron-circle-right\"></i>レース結果</a></td>,\n",
       " <td class=\"result\"><a class=\"btn-def btn-xs\" href=\"/datafile/seiseki/replay/2020/112.html\"><i aria-hidden=\"true\" class=\"fa fa-chevron-circle-right\"></i>レース結果</a></td>,\n",
       " <td class=\"result\"><a class=\"btn-def btn-xs\" href=\"/datafile/seiseki/g1/afs/result/afs2020.html\"><i aria-hidden=\"true\" class=\"fa fa-chevron-circle-right\"></i>レース結果</a></td>,\n",
       " <td class=\"result\"><a class=\"btn-def btn-xs\" href=\"/datafile/seiseki/g1/daishogai/result/daishogai2020.html\"><i aria-hidden=\"true\" class=\"fa fa-chevron-circle-right\"></i>レース結果</a></td>,\n",
       " <td class=\"result\"><a class=\"btn-def btn-xs\" href=\"/datafile/seiseki/g1/hopeful/result/hopeful2020.html\"><i aria-hidden=\"true\" class=\"fa fa-chevron-circle-right\"></i>レース結果</a></td>,\n",
       " <td class=\"result\"><a class=\"btn-def btn-xs\" href=\"/datafile/seiseki/replay/2020/113.html\"><i aria-hidden=\"true\" class=\"fa fa-chevron-circle-right\"></i>レース結果</a></td>,\n",
       " <td class=\"result\"><a class=\"btn-def btn-xs\" href=\"/datafile/seiseki/g1/arima/result/arima2020.html\"><i aria-hidden=\"true\" class=\"fa fa-chevron-circle-right\"></i>レース結果</a></td>]"
      ]
     },
     "execution_count": 13,
     "metadata": {},
     "output_type": "execute_result"
    }
   ],
   "source": [
    "urls_pre"
   ]
  },
  {
   "cell_type": "code",
   "execution_count": 20,
   "metadata": {},
   "outputs": [],
   "source": [
    "urls = []\n",
    "for url in urls_pre:\n",
    "    m = re.search(r'.+href=\"(.+)\"><i.+', str(url))\n",
    "    if m is None: break\n",
    "    urls.append(m.group(1))"
   ]
  },
  {
   "cell_type": "code",
   "execution_count": 21,
   "metadata": {},
   "outputs": [
    {
     "data": {
      "text/plain": [
       "['/datafile/seiseki/replay/2021/001.html',\n",
       " '/datafile/seiseki/replay/2021/002.html',\n",
       " '/datafile/seiseki/replay/2021/003.html',\n",
       " '/datafile/seiseki/replay/2021/004.html',\n",
       " '/datafile/seiseki/replay/2021/005.html',\n",
       " '/datafile/seiseki/replay/2021/006.html',\n",
       " '/datafile/seiseki/replay/2021/007.html',\n",
       " '/datafile/seiseki/replay/2021/008.html',\n",
       " '/datafile/seiseki/replay/2021/009.html',\n",
       " '/datafile/seiseki/replay/2021/010.html',\n",
       " '/datafile/seiseki/replay/2021/011.html',\n",
       " '/datafile/seiseki/replay/2021/012.html',\n",
       " '/datafile/seiseki/replay/2021/013.html',\n",
       " '/datafile/seiseki/replay/2021/014.html',\n",
       " '/datafile/seiseki/replay/2021/015.html',\n",
       " '/datafile/seiseki/replay/2021/016.html',\n",
       " '/datafile/seiseki/replay/2021/017.html',\n",
       " '/datafile/seiseki/replay/2021/018.html',\n",
       " '/datafile/seiseki/g1/feb/result/feb2021.html',\n",
       " '/datafile/seiseki/replay/2021/019.html',\n",
       " '/datafile/seiseki/replay/2021/020.html',\n",
       " '/datafile/seiseki/replay/2021/021.html']"
      ]
     },
     "execution_count": 21,
     "metadata": {},
     "output_type": "execute_result"
    }
   ],
   "source": [
    "urls"
   ]
  },
  {
   "cell_type": "code",
   "execution_count": null,
   "metadata": {},
   "outputs": [],
   "source": []
  }
 ],
 "metadata": {
  "kernelspec": {
   "display_name": "Python 3",
   "language": "python",
   "name": "python3"
  },
  "language_info": {
   "codemirror_mode": {
    "name": "ipython",
    "version": 3
   },
   "file_extension": ".py",
   "mimetype": "text/x-python",
   "name": "python",
   "nbconvert_exporter": "python",
   "pygments_lexer": "ipython3",
   "version": "3.8.3"
  }
 },
 "nbformat": 4,
 "nbformat_minor": 4
}
